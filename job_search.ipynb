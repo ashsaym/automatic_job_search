{
 "cells": [
  {
   "cell_type": "code",
   "execution_count": 1,
   "metadata": {},
   "outputs": [],
   "source": [
    "import pandas as pd\n",
    "import requests , json , csv , time , re\n",
    "from bs4 import BeautifulSoup as bs"
   ]
  },
  {
   "cell_type": "code",
   "execution_count": null,
   "metadata": {},
   "outputs": [
    {
     "name": "stdout",
     "output_type": "stream",
     "text": [
      "Praktikant / Werkstudent – SAP S/4HANA (w/m/d)\n",
      "Praktikant / Werkstudent Digital Transformation (w/m/d)\n"
     ]
    }
   ],
   "source": [
    "Job_search_details = pd.DataFrame(columns={'Title', 'Url','Place', 'Time'})\n",
    "Url = 'https://www.stepstone.de/5/job-search-simple.html?stf=freeText&ns=1&ke=internship&ws=essen&ra=30&li=100&wt=80002'\n",
    "Request = requests.get(Url,'lxml')\n",
    "HTML = bs(Request.content)\n",
    "Links = HTML.find_all('article')\n",
    "for i in range(len(Links)):\n",
    "    job_title = Links[i].h2.text\n",
    "    job_links = Links[i].find_all('a')\n",
    "    job_url = 'https://www.stepstone.de'+job_links[1]['href']\n",
    "    job_place_time = Links[i].find_all('li')\n",
    "    job_place = job_place_time[1].text\n",
    "    job_time = job_place_time[0].text\n",
    "    Job_search_details = Job_search_details.append({\n",
    "        'Title': job_title,\n",
    "        'Url' : job_url,\n",
    "        'Place' : job_place,\n",
    "        'Time' : job_time\n",
    "    }, ignore_index = True)\n",
    "\n",
    "Full_Job_Des = pd.DataFrame()\n",
    "for index , row in Job_search_details.iterrows():\n",
    "    Job_req_des = dict()\n",
    "    Title = row['Title']\n",
    "    Place = row['Place']\n",
    "    Time = row['Time']\n",
    "    Links = row['Url']\n",
    "    Request = requests.get(Links)\n",
    "    Pages = bs(Request.content,'lxml')\n",
    "    Job_Title = Pages.find('h1').text\n",
    "    Main = Pages.find_all('main')\n",
    "    if Main != None or Main != '':\n",
    "        try:\n",
    "            str_list = Main[1].text.split('\\n')\n",
    "        except:\n",
    "            str_list = '[]'\n",
    "            \n",
    "        Texts = [x.replace('\\xa0',' ') for x in str_list if x != '' and x !='\\xa0' and x != ' ']\n",
    "        \n",
    "    print(Title)\n",
    "    Full_Job_Des = Full_Job_Des.append({\n",
    "                'Job Title': Job_Title,\n",
    "                'Job Url' : Links,\n",
    "                'Place' : Place,\n",
    "                'Time' : Time,\n",
    "                'Job Details': Texts\n",
    "            },ignore_index = True)\n",
    "Full_Job_Des.to_json('Full_Details.json')\n",
    "Details = pd.read_json('Full_Details.json')"
   ]
  },
  {
   "cell_type": "code",
   "execution_count": null,
   "metadata": {},
   "outputs": [],
   "source": [
    "for i in range(len(Details)):\n",
    "    print(Details['Place'][i])"
   ]
  },
  {
   "cell_type": "code",
   "execution_count": null,
   "metadata": {},
   "outputs": [],
   "source": [
    "Details"
   ]
  },
  {
   "cell_type": "code",
   "execution_count": null,
   "metadata": {},
   "outputs": [],
   "source": []
  },
  {
   "cell_type": "code",
   "execution_count": null,
   "metadata": {},
   "outputs": [],
   "source": []
  }
 ],
 "metadata": {
  "kernelspec": {
   "display_name": "Python 3",
   "language": "python",
   "name": "python3"
  },
  "language_info": {
   "codemirror_mode": {
    "name": "ipython",
    "version": 3
   },
   "file_extension": ".py",
   "mimetype": "text/x-python",
   "name": "python",
   "nbconvert_exporter": "python",
   "pygments_lexer": "ipython3",
   "version": "3.7.3"
  }
 },
 "nbformat": 4,
 "nbformat_minor": 2
}
